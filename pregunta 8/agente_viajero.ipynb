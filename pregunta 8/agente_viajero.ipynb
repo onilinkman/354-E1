{
 "cells": [
  {
   "cell_type": "code",
   "execution_count": 5,
   "id": "1dbe3fad-8084-402e-85ec-babfb5419c81",
   "metadata": {},
   "outputs": [],
   "source": [
    "grafo=[\n",
    "    [0,9,11,5,24,4,12,25],\n",
    "    [9,0,21,24,9,16,19,20],\n",
    "    [11,21,0,6,10,13,16,14],\n",
    "    [5,24,6,0,12,15,2,21],\n",
    "    [24,9,10,12,0,22,4,15],\n",
    "    [4,16,13,15,22,0,17,9],\n",
    "    [12,19,16,2,4,17,0,12],\n",
    "    [25,20,14,21,15,9,12,0]\n",
    "]\n",
    "\n",
    "nodos=[\"A\",\"B\",\"C\",\"D\",\"E\",\"F\",\"G\",\"H\"]"
   ]
  },
  {
   "cell_type": "code",
   "execution_count": 15,
   "id": "6eb7845b-1e6f-484a-bfd8-c3dc692f6a39",
   "metadata": {},
   "outputs": [
    {
     "name": "stdout",
     "output_type": "stream",
     "text": [
      "A ['B', 'C', 'D', 'E', 'F', 'G', 'H']\n"
     ]
    }
   ],
   "source": [
    "print(nodos[0],nodos[1:])"
   ]
  },
  {
   "cell_type": "code",
   "execution_count": 66,
   "id": "0515c36b-b3f2-4ad5-bc1b-517d547992d3",
   "metadata": {},
   "outputs": [
    {
     "name": "stdout",
     "output_type": "stream",
     "text": [
      "0 BC\n",
      "0 C\n",
      "perm C\n",
      "1 B\n",
      "perm B\n",
      "perm BC\n",
      "perm CB\n",
      "1 AC\n",
      "0 C\n",
      "perm C\n",
      "1 A\n",
      "perm A\n",
      "perm AC\n",
      "perm CA\n",
      "2 AB\n",
      "0 B\n",
      "perm B\n",
      "1 A\n",
      "perm A\n",
      "perm AB\n",
      "perm BA\n",
      "6 ['ABC', 'ACB', 'BAC', 'BCA', 'CAB', 'CBA']\n"
     ]
    }
   ],
   "source": [
    "def permutaciones(cadena):\n",
    "    # Caso base: Si la cadena es de un solo carácter, solo hay una permutación\n",
    "    if len(cadena) == 1:\n",
    "        return [cadena]\n",
    "    \n",
    "    # Lista para almacenar las permutaciones\n",
    "    resultado = []\n",
    "    \n",
    "    # Para cada carácter en la cadena\n",
    "    for i in range(len(cadena)):\n",
    "        # Extraer el carácter actual\n",
    "        char = cadena[i]\n",
    "        # Formar la cadena restante sin el carácter actual\n",
    "        resto = cadena[:i] + cadena[i+1:]\n",
    "        #print(i,resto)\n",
    "        # Generar todas las permutaciones de la cadena restante\n",
    "        for perm in permutaciones(resto):\n",
    "            #print(\"perm\",perm)\n",
    "            # Agregar el carácter actual a cada permutación de la cadena restante\n",
    "            resultado.append(char + perm)\n",
    "    \n",
    "    return resultado\n",
    "        \n",
    "\n",
    "arr=permutaciones(\"ABCD\")\n",
    "print(len(arr),arr)"
   ]
  }
 ],
 "metadata": {
  "kernelspec": {
   "display_name": "Python 3 (ipykernel)",
   "language": "python",
   "name": "python3"
  },
  "language_info": {
   "codemirror_mode": {
    "name": "ipython",
    "version": 3
   },
   "file_extension": ".py",
   "mimetype": "text/x-python",
   "name": "python",
   "nbconvert_exporter": "python",
   "pygments_lexer": "ipython3",
   "version": "3.11.8"
  }
 },
 "nbformat": 4,
 "nbformat_minor": 5
}
